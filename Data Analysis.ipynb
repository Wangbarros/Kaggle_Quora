{
 "cells": [
  {
   "cell_type": "markdown",
   "metadata": {},
   "source": [
    "# Imports"
   ]
  },
  {
   "cell_type": "code",
   "execution_count": 48,
   "metadata": {
    "collapsed": true
   },
   "outputs": [],
   "source": [
    "import os\n",
    "import sys\n",
    "import time\n",
    "import re\n",
    "import pickle\n",
    "import logging\n",
    "import string\n",
    "import warnings\n",
    "import math\n",
    "\n",
    "import pandas as pd\n",
    "import numpy as np\n",
    "import pylab\n",
    "import matplotlib\n",
    "import matplotlib.pyplot as plt\n",
    "from matplotlib.font_manager import FontProperties\n",
    "\n",
    "import nltk\n",
    "import nltk.data\n",
    "from nltk.corpus import stopwords\n",
    "from nltk import word_tokenize\n",
    "from nltk.stem.porter import PorterStemmer\n",
    "from nltk.stem.snowball import SnowballStemmer\n",
    "from nltk.stem.wordnet import WordNetLemmatizer\n",
    "\n",
    "from sklearn import model_selection\n",
    "from sklearn.feature_extraction.text import CountVectorizer\n",
    "from sklearn.feature_extraction.text import TfidfVectorizer \n",
    "from sklearn.cluster import KMeans\n",
    "from sklearn.metrics import roc_auc_score as AUC\n",
    "\n",
    "import gensim\n",
    "from gensim import corpora\n",
    "from gensim import models\n",
    "from gensim import similarities\n",
    "from gensim.models import Word2Vec\n",
    "\n",
    "from bs4 import BeautifulSoup\n",
    "from sklearn.metrics import log_loss"
   ]
  },
  {
   "cell_type": "markdown",
   "metadata": {},
   "source": [
    "# Get Data"
   ]
  },
  {
   "cell_type": "code",
   "execution_count": 8,
   "metadata": {
    "collapsed": true
   },
   "outputs": [],
   "source": [
    "#nltk.download(\"stopwords\")\n",
    "quora_train = pd.read_csv(\"/../Dados/Kaggle/train.csv\")"
   ]
  },
  {
   "cell_type": "code",
   "execution_count": null,
   "metadata": {
    "collapsed": true
   },
   "outputs": [],
   "source": [
    "#print (type(quora_train))\n",
    "#print(quora_train.head())"
   ]
  },
  {
   "cell_type": "markdown",
   "metadata": {},
   "source": [
    "# Functions to process data"
   ]
  },
  {
   "cell_type": "code",
   "execution_count": 49,
   "metadata": {
    "collapsed": true
   },
   "outputs": [],
   "source": [
    "import scipy.spatial.distance\n",
    "\n",
    "from fuzzywuzzy import fuzz\n",
    "\n",
    "def make_basic_features(data):\n",
    "    data[\"len_q1\"] = data.question1.apply(lambda x: len(str(x)))\n",
    "    data[\"len_q2\"] = data.question2.apply(lambda x: len(str(x)))\n",
    "    data[\"diff_len\"] = data.len_q1 - data.len_q2\n",
    "    data[\"len_char_q1\"] = data.question1.apply(lambda x: len(''.join(set(str(x).replace(' ', '')))))\n",
    "    data[\"len_char_q2\"] = data.question2.apply(lambda x: len(''.join(set(str(x).replace(' ', '')))))\n",
    "    data[\"len_word_q1\"] = data.question1.apply(lambda x: len(str(x).split()))\n",
    "    data[\"len_word_q2\"] = data.question2.apply(lambda x: len(str(x).split()))\n",
    "    data['common_words'] = data.apply(lambda x: len(set(str(x['question1']).lower().split()).intersection(set(str(x['question2']).lower().split()))), axis=1)\n",
    "    return data\n",
    "\n",
    "def make_fuzz_features(data):\n",
    "    data['fuzz_qratio'] = data.apply(lambda x: fuzz.QRatio(str(x['question1']), str(x['question2'])), axis=1) \n",
    "    data['fuzz_WRatio'] = data.apply(lambda x: fuzz.WRatio(str(x['question1']), str(x['question2'])), axis=1) \n",
    "    data['fuzz_partial_ratio'] = data.apply(lambda x: fuzz.partial_ratio(str(x['question1']), str(x['question2'])), axis=1) \n",
    "    data['fuzz_partial_token _set_ratio'] = data.apply(lambda x : fuzz.partial_token_set_ratio(str(x['question1']), str(x['question2'])), axis=1) \n",
    "    data['fuzz_partial_token_sort_ratio'] = data.apply(lambda x: fuzz. partial_token_sort_ratio(str(x['question1']), str(x['question2'])), axis=1) \n",
    "    data ['fuzz_token_set_ratio'] = data.apply(lambda x: fuzz.token_set_ratio(str(x['question1']), str(x['question2'])), axis=1) \n",
    "    data['fuzz_token_sort_ratio'] = data.apply(lambda x: fuzz.token_sort_ratio(str(x['question1']), str(x['question2'])), axis=1)\n",
    "    return data\n",
    "\n",
    "def add_dotprod_eucli(df1, df2):\n",
    "    \"\"\"\n",
    "    Receives two numpy arrays sums them then adds two new colunms \n",
    "    with dotprod and euclidean distance of each row\n",
    "    :param df1: Numpy array\n",
    "    :param df2: Numpy array\n",
    "    :return: New numpy array\n",
    "    \"\"\"\n",
    "    df3 = np.add(df1,df2)/2\n",
    "    dotprod = []\n",
    "    euclid = []\n",
    "    for index in range(0,len(df1)):\n",
    "        dotprod.append(np.dot(df1[index],df2[index]))\n",
    "        euclid.append(scipy.spatial.distance.euclidean(df1[index],df2[index]))\n",
    "    dotprod = np.transpose(dotprod)\n",
    "    euclid = np.transpose(euclid)\n",
    "    df_final = np.column_stack((df3,dotprod,euclid))\n",
    "    return (df_final)\n",
    "\n",
    "\n",
    "\n"
   ]
  },
  {
   "cell_type": "code",
   "execution_count": 50,
   "metadata": {
    "collapsed": true
   },
   "outputs": [],
   "source": [
    "# Editing questions with NLTK package\n",
    "\n",
    "def remove_stopwords(phrase,list_stopwords):\n",
    "    \"\"\"\n",
    "    Receives a phrase and removes all stopwords from a list\n",
    "    :param phrase: String. A phrase.\n",
    "    :param list_stopwords: List. A list of stopwords\n",
    "    :return: The same phrase without stopwords\n",
    "    \"\"\"\n",
    "    final_phrase = []\n",
    "    words = phrase.split(\" \")\n",
    "    for word in words:\n",
    "        if word not in list_stopwords:\n",
    "            final_phrase.append((word))\n",
    "    \n",
    "    final_phrase = ' '.join(final_phrase)\n",
    "    \n",
    "    return final_phrase\n",
    "    \n",
    "def remove_punctuation(phrase):\n",
    "    \"\"\"\n",
    "    Receives a phrase and removes all punctuation from it\n",
    "    :param phrase: String. A phrase.\n",
    "    :return: The same phrase without punctuation\n",
    "    \"\"\"\n",
    "    #Check if NA\n",
    "    if type(phrase) is float:\n",
    "        if math.isnan(phrase):\n",
    "            return (\"\")\n",
    "    \n",
    "    translator = str.maketrans('', '', string.punctuation)\n",
    "    phrase = phrase.translate(translator) #removing punctuation\n",
    "        \n",
    "    return phrase\n",
    "\n",
    "def lemm_wordnet(phrase):\n",
    "    \"\"\"\n",
    "    Receives a phrase and removes lemmatizes it\n",
    "    :param phrase: String. A phrase.\n",
    "    :return: The same phrase in lemmas\n",
    "    \"\"\"\n",
    "    lemm = WordNetLemmatizer()\n",
    "    \n",
    "    #NA is a float type, so this if is to avoid conflict\n",
    "    if type(phrase) is not float:\n",
    "        phrase = [lemm.lemmatize(i) for i in phrase.split()]\n",
    "        phrase = ' '.join(phrase)\n",
    "    else:\n",
    "        return \"\"\n",
    "    return phrase\n",
    "    \n",
    "def remove_duplicate(phrase):\n",
    "    \"\"\"\n",
    "    Receives a phrase and removes all duplicate words\n",
    "    :param phrase: String. A phrase.\n",
    "    :return: The same phrase with just unique words\n",
    "    \"\"\"\n",
    "    aux_phrase = []\n",
    "        \n",
    "    if type(phrase) is not float:\n",
    "        \n",
    "        for i in phrase.split():\n",
    "            \n",
    "            if i not in aux_phrase:\n",
    "                aux_phrase.append(i)\n",
    "    \n",
    "    phrase = ' '.join(aux_phrase)\n",
    "    \n",
    "    return phrase\n",
    "    \n",
    "    \n",
    "def all_lower_case(phrase):    \n",
    "    \"\"\"\n",
    "    Receives a phrase and makes it lower case\n",
    "    :param phrase: String. A phrase.\n",
    "    :return: The same phrase in lower case\n",
    "    \"\"\"\n",
    "    if type(phrase) is not float:\n",
    "            phrase = phrase.lower()\n",
    "    return phrase\n",
    "    \n",
    "def stem_snowball(phrase):\n",
    "    \"\"\"\n",
    "    Receives a phrase and returns the same phrase stemmed, lowercase phrase without stopwords\n",
    "    :param phrase: String. A phrase.\n",
    "    :return: String. Stemmed, lowercase phrase without stopwords\n",
    "    \"\"\"\n",
    "    stemmer = SnowballStemmer(\"english\")\n",
    "    \n",
    "    #Stem words according to stemmer\n",
    "    final_phrase = []\n",
    "    words = phrase.split(\" \")\n",
    "    for word in words:\n",
    "        final_phrase.append((stemmer.stem(word)))\n",
    "    \n",
    "    final_phrase = ' '.join(final_phrase)\n",
    "    \n",
    "    return final_phrase\n",
    "\n",
    "stem_snowball(\"What is the step by step guide to invest in share market in india?\")\n",
    "\n",
    "#This function will return a Bag of words of our two questions using TF method\n",
    "def vectorizer_tf(data, features = 5000):\n",
    "    \"\"\"\n",
    "    Receives the data frame. Merges all words in question1 and question2 and vectorizes with tf algorithm.\n",
    "    :param phrase: data frame.\n",
    "    :param features: number of features for the vectorizes.\n",
    "    :return: An array with #number of features\n",
    "    \"\"\"\n",
    "    vectorizer_count = CountVectorizer(ngram_range=(1, 2), max_features = features)\n",
    "    \n",
    "    merge = data.question1.append([data.question2])\n",
    "    \n",
    "    vector_fitt = vectorizer_count.fit(merge)\n",
    "    \n",
    "    question1 = vector_fitt.transform(data.question1)\n",
    "    question2 = vector_fitt.transform(data.question2)\n",
    "    \n",
    "    question1 = question1.toarray()\n",
    "    question2 = question2.toarray()\n",
    "    \n",
    "    return add_dotprod_eucli(question1,question2)\n",
    "\n",
    "def vectorizer_tf_batch(data, batch ,features = 5000):\n",
    "    \"\"\"\n",
    "    Receives the data frame. Merges all words in question1 and question2 and vectorizes with tf algorithm.\n",
    "    :param phrase: data frame.\n",
    "    :param features: number of features for the vectorizes.\n",
    "    :param batch: number of batchs if you are having problem with memory\n",
    "    :return: An array with #number of features\n",
    "    \"\"\"\n",
    "    if batch <= 1:\n",
    "        return print(\"Use vectorizer_tf instead, this function only work for batch equal or more than two\")\n",
    "    \n",
    "    vectorizer_count = CountVectorizer(ngram_range=(1, 2), max_features = features)\n",
    "    \n",
    "    merge = data.question1.append([data.question2])\n",
    "    \n",
    "    vector_fitt = vectorizer_count.fit(merge)\n",
    "    \n",
    "    question1 = vector_fitt.transform(data.question1)\n",
    "    question2 = vector_fitt.transform(data.question2)\n",
    "    \n",
    "    del vector_fitt, merge, vectorizer_count\n",
    "    \n",
    "    aux_batch_mean = data.shape[0]/batch\n",
    "    \n",
    "    aux_batch_number = []\n",
    "    \n",
    "    for i in range(0, batch - 1):\n",
    "        aux_batch_number.append(round(i*aux_batch_mean))\n",
    "    \n",
    "    aux_batch_number.append(data.shape[0])\n",
    "    \n",
    "    question = question1[0].toarray()\n",
    "    \n",
    "    question = np.append(question,[0,0])\n",
    "    \n",
    "    for i in range(0, batch - 1):    \n",
    "        \n",
    "        print(i+1, 'Batch')\n",
    "        \n",
    "        question1_aux = question1[aux_batch_number[i]:aux_batch_number[i+1]].toarray()\n",
    "        question2_aux = question2[aux_batch_number[i]:aux_batch_number[i+1]].toarray()\n",
    "    \n",
    "        question = np.vstack((question, add_dotprod_eucli(question1_aux, question2_aux)))\n",
    "        \n",
    "    question = question[1:]\n",
    "    \n",
    "    #Normalize two last colunms (dotprod and euclidean)\n",
    "    question[:,-1] = question[:,-1]/max(question[:,-1])\n",
    "    question[:,-2] = question[:,-2]/max(question[:,-2])\n",
    "        \n",
    "    return question\n",
    "\n",
    "#This function will return a Bag of words of our two questions using TF-idf method\n",
    "\n",
    "def vectorizer_tf_idf(data, features = 5000):\n",
    "    \"\"\"\n",
    "    Receives the data frame. Merges all words in question1 and question2 and vectorizes with tf-idf algorithm.\n",
    "    :param data: data frame.\n",
    "    :param features: number of features for the vectorizes.\n",
    "    :return: An array with #number of features\n",
    "    \"\"\"\n",
    "    vectorizer_tf_idf = TfidfVectorizer(ngram_range=(1, 2), max_features = features, sublinear_tf=True)\n",
    "    \n",
    "    merge = data.question1.append([data.question2])\n",
    "    \n",
    "    vector_tf_idf_fitt = vectorizer_tf_idf.fit(merge)\n",
    "    \n",
    "    question1 = vector_tf_idf_fitt.transform(data.question1)\n",
    "    question2 = vector_tf_idf_fitt.transform(data.question2)\n",
    "        \n",
    "    question1 = question1.toarray()\n",
    "    question2 = question2.toarray()\n",
    "    \n",
    "    return add_dotprod_eucli(question1, question2)\n",
    "\n",
    "def vectorizer_tf_idf_batch(data, batch ,features = 5000):\n",
    "    \"\"\"\n",
    "    Receives the data frame. Merges all words in question1 and question2 and vectorizes with tf-idf algorithm.\n",
    "    :param data: data frame.\n",
    "    :param features: number of features for the vectorizes.\n",
    "    :param batch: number of batchs if you are having problem with memory\n",
    "    :return: An array with #number of features\n",
    "    \"\"\"\n",
    "    if batch <= 1:\n",
    "        return print(\"Use vectorizer_tf_idf instead, this function only work for batch equal or more than two\")\n",
    "    \n",
    "    vectorizer_tf_idf = TfidfVectorizer(ngram_range=(1, 2), max_features = features, sublinear_tf=True)\n",
    "    \n",
    "    merge = data.question1.append([data.question2])\n",
    "    \n",
    "    vector_tf_idf_fitt = vectorizer_tf_idf.fit(merge)\n",
    "    \n",
    "    question1 = vector_tf_idf_fitt.transform(data.question1)\n",
    "    question2 = vector_tf_idf_fitt.transform(data.question2)\n",
    "    \n",
    "    del vector_tf_idf_fitt, merge, vectorizer_tf_idf\n",
    "    \n",
    "    aux_batch_mean = data.shape[0]/batch\n",
    "    \n",
    "    aux_batch_number = []\n",
    "    \n",
    "    for i in range(0, batch - 1):\n",
    "        aux_batch_number.append(round(i*aux_batch_mean))\n",
    "    \n",
    "    aux_batch_number.append(data.shape[0])\n",
    "    \n",
    "    question = question1[0].toarray()\n",
    "    \n",
    "    question = np.append(question,[0,0])\n",
    "    \n",
    "    for i in range(0, batch - 1):    \n",
    "        \n",
    "        print(i+1, 'Batch')\n",
    "        \n",
    "        question1_aux = question1[aux_batch_number[i]:aux_batch_number[i+1]].toarray()\n",
    "        question2_aux = question2[aux_batch_number[i]:aux_batch_number[i+1]].toarray()\n",
    "    \n",
    "        question = np.vstack((question, add_dotprod_eucli(question1_aux, question2_aux)))\n",
    "        \n",
    "    question = question[1:]\n",
    "    \n",
    "    #Normalize two last colunms (dotprod and euclidean)\n",
    "    question[:,-1] = question[:,-1]/max(question[:,-1])\n",
    "    question[:,-2] = question[:,-2]/max(question[:,-2])\n",
    "        \n",
    "    return question"
   ]
  },
  {
   "cell_type": "code",
   "execution_count": 51,
   "metadata": {
    "collapsed": true
   },
   "outputs": [],
   "source": [
    "#cleaning tool is used so you can easily choose which functions you want to use to clean te text\n",
    "def cleaning_tool(data, drop_na = True, lower_case = True, rm_duplicate = False, stopwords = False, \n",
    "                  punctuation = True, lemm = False, stem = False, list_of_stopwords = None):\n",
    "    \"\"\"\n",
    "    Function to process all data using calling functions from above, according to what was chosen.\n",
    "    :param data: data frame.\n",
    "    :param drop_na: If True drop all lines of data frame with NA\n",
    "    :param lower_case: If True transform for lower case\n",
    "    :param rm_duplicate: If True remove all duplicate words in questions\n",
    "    :param stopwords: If True removes stopwords\n",
    "    :param punctuation: If True removes punctuation\n",
    "    :param lemm: If True returns the phrase lemmatized\n",
    "    :param stem: If True returns the phrase stemmed\n",
    "    :param list_of_stopwords: List of stopwords to be used\n",
    "    :return: Question1 and Question2 processed according to parameters\n",
    "    \"\"\"\n",
    "    if drop_na == True:\n",
    "        data = data.dropna(0)\n",
    "    \n",
    "    if rm_duplicate == True:\n",
    "        data[\"question1\"] = data[\"question1\"].apply(lambda x: remove_duplicate(x))\n",
    "        data[\"question2\"] = data[\"question2\"].apply(lambda x: remove_duplicate(x))\n",
    "    \n",
    "    if lower_case == True:\n",
    "        data[\"question1\"] = data[\"question1\"].apply(lambda x: all_lower_case(x))\n",
    "        data[\"question2\"] = data[\"question2\"].apply(lambda x: all_lower_case(x))\n",
    "    \n",
    "    if stopwords == True:\n",
    "        data[\"question1\"] = data[\"question1\"].apply(lambda x: remove_stopwords(x, list_of_stopwords))\n",
    "        data[\"question2\"] = data[\"question2\"].apply(lambda x: remove_stopwords(x, list_of_stopwords))\n",
    "       \n",
    "    if punctuation == True:\n",
    "        data[\"question1\"] = data[\"question1\"].apply(lambda x: remove_punctuation(x))\n",
    "        data[\"question2\"] = data[\"question2\"].apply(lambda x: remove_punctuation(x))\n",
    "        \n",
    "    if lemm_wordnet == True:\n",
    "        data[\"question1\"] = data[\"question1\"].apply(lambda x: lemm_wordnet(x))\n",
    "        data[\"question2\"] = data[\"question2\"].apply(lambda x: lemm_wordnet(x))\n",
    "        \n",
    "    if stem_snowball == True:\n",
    "        data[\"question1\"] = data[\"question1\"].apply(lambda x: stem_snowball(x))\n",
    "        data[\"question2\"] = data[\"question2\"].apply(lambda x: stem_snowball(x))\n",
    "    \n",
    "    #We used it two times if some function create a new NA.\n",
    "    if drop_na == True:\n",
    "        data = data.dropna(0)    \n",
    "        \n",
    "    return data"
   ]
  },
  {
   "cell_type": "markdown",
   "metadata": {},
   "source": [
    "# Cleaning Quora Train"
   ]
  },
  {
   "cell_type": "code",
   "execution_count": null,
   "metadata": {
    "collapsed": true
   },
   "outputs": [],
   "source": [
    "quora_train = cleaning_tool(quora_train, lemm = True, rm_duplicate = True)"
   ]
  },
  {
   "cell_type": "markdown",
   "metadata": {},
   "source": [
    "# Bag of Words"
   ]
  },
  {
   "cell_type": "code",
   "execution_count": null,
   "metadata": {
    "collapsed": true
   },
   "outputs": [],
   "source": [
    "#Just for test\n",
    "quora_train = quora_train.head(15000)"
   ]
  },
  {
   "cell_type": "code",
   "execution_count": null,
   "metadata": {
    "collapsed": true
   },
   "outputs": [],
   "source": [
    "quora_train_tf_idf = vectorizer_tf_idf_batch(quora_train, 25, 5000)"
   ]
  },
  {
   "cell_type": "code",
   "execution_count": null,
   "metadata": {
    "collapsed": true
   },
   "outputs": [],
   "source": [
    "quora_train_tf = vectorizer_tf_batch(quora_train, 25, 5000)"
   ]
  },
  {
   "cell_type": "markdown",
   "metadata": {},
   "source": [
    "# Store edited databases w/ Pickle TF"
   ]
  },
  {
   "cell_type": "code",
   "execution_count": null,
   "metadata": {
    "collapsed": true
   },
   "outputs": [],
   "source": [
    "quora_train_tf_part1 = quora_train_tf[0:200000]\n",
    "quora_train_tf_part2 = quora_train_tf[200000:]\n",
    "\n",
    "del quora_train_tf\n",
    "\n",
    "fileObject = open(\"../Dados/Kaggle/quora_train_Lemm_Ponc_NA_lower_tf_part1\",'wb') \n",
    "pickle.dump(quora_train_tf_part1,fileObject, protocol = 4)  \n",
    "fileObject.close()\n",
    "\n",
    "del quora_train_tf_part1\n",
    "\n",
    "fileObject = open(\"../Dados/Kaggle/quora_train_Lemm_Ponc_NA_lower_tf_part2\",'wb') \n",
    "pickle.dump(quora_train_tf_part2,fileObject, protocol = 4)  \n",
    "fileObject.close()\n",
    "\n",
    "del quora_train_tf_part2"
   ]
  },
  {
   "cell_type": "markdown",
   "metadata": {},
   "source": [
    "# Store edited databases w/ Pickle TF IDF"
   ]
  },
  {
   "cell_type": "code",
   "execution_count": null,
   "metadata": {
    "collapsed": true
   },
   "outputs": [],
   "source": [
    "quora_train_tf_idf_part1 = quora_train_tf_idf[0:200000]\n",
    "quora_train_tf_idf_part2 = quora_train_tf_idf[200000:]\n",
    "\n",
    "del quora_train_tf_idf\n",
    "\n",
    "fileObject = open(\"../Dados/Kaggle/quora_train_Lemm_Ponc_NA_lower_tf_idf_part1\",'wb') \n",
    "pickle.dump(quora_train_tf_idf_part1,fileObject, protocol = 4)  \n",
    "fileObject.close()\n",
    "\n",
    "del quora_train_tf_idf_part1\n",
    "\n",
    "fileObject = open(\"../Dados/Kaggle/quora_train_Lemm_Ponc_NA_lower_tf_idf_part2\",'wb') \n",
    "pickle.dump(quora_train_tf_idf_part2,fileObject, protocol = 4)  \n",
    "fileObject.close()\n",
    "\n",
    "del quora_train_tf_idf_part2"
   ]
  },
  {
   "cell_type": "markdown",
   "metadata": {},
   "source": [
    "# Loading Stored databases w/ Pickle TF"
   ]
  },
  {
   "cell_type": "code",
   "execution_count": null,
   "metadata": {
    "collapsed": true
   },
   "outputs": [],
   "source": [
    "fileObject = open(\"../Dados/Kaggle/quora_train_Lemm_Ponc_NA_lower_tf_part1\",'rb')  \n",
    "quora_train_tf_part1 = pickle.load(fileObject)\n",
    "\n",
    "fileObject = open(\"../Dados/Kaggle/quora_train_Lemm_Ponc_NA_lower_tf_part2\",'rb')  \n",
    "quora_train_tf_part2 = pickle.load(fileObject)\n",
    "\n",
    "quora_train_tf = np.vstack((quora_train_tf_part1, quora_train_tf_part2))\n",
    "\n",
    "del quora_train_tf_part1, quora_train_tf_part2"
   ]
  },
  {
   "cell_type": "code",
   "execution_count": null,
   "metadata": {
    "collapsed": true
   },
   "outputs": [],
   "source": [
    "quora_train = pd.read_csv(\"/../Dados/Kaggle/train.csv\")\n",
    "quora_train = cleaning_tool(quora_train, lemm = True, rm_duplicate = True)"
   ]
  },
  {
   "cell_type": "markdown",
   "metadata": {},
   "source": [
    "# Loading Stored databases w/ Pickle TF IDF"
   ]
  },
  {
   "cell_type": "code",
   "execution_count": null,
   "metadata": {
    "collapsed": true
   },
   "outputs": [],
   "source": [
    "fileObject = open(\"../Dados/Kaggle/quora_train_Lemm_Ponc_NA_lower_tf_idf_part1\",'rb')  \n",
    "quora_train_tf_idf_part1 = pickle.load(fileObject)\n",
    "\n",
    "fileObject = open(\"../Dados/Kaggle/quora_train_Lemm_Ponc_NA_lower_tf_idf_part2\",'rb')  \n",
    "quora_train_tf_idf_part2 = pickle.load(fileObject)\n",
    "\n",
    "quora_train_tf_idf = np.vstack((quora_train_tf_idf_part1, quora_train_tf_idf_part2))\n",
    "\n",
    "del quora_train_tf_idf_part1, quora_train_tf_idf_part2"
   ]
  },
  {
   "cell_type": "code",
   "execution_count": null,
   "metadata": {
    "collapsed": true
   },
   "outputs": [],
   "source": [
    "quora_train_tf_idf.shape"
   ]
  },
  {
   "cell_type": "code",
   "execution_count": null,
   "metadata": {
    "collapsed": true
   },
   "outputs": [],
   "source": [
    "quora_train = pd.read_csv(\"../Dados/Kaggle/train.csv\")\n",
    "quora_train = cleaning_tool(quora_train, lemm = True, rm_duplicate = True)"
   ]
  },
  {
   "cell_type": "markdown",
   "metadata": {},
   "source": [
    "# Split data into training/testing"
   ]
  },
  {
   "cell_type": "code",
   "execution_count": null,
   "metadata": {
    "collapsed": true
   },
   "outputs": [],
   "source": [
    "# for testing purposes\n",
    "#quora_train_tf = quora_train_tf[:,:-1]\n",
    "#quora_train_tf = quora_train_tf[:,:-1]\n",
    "#quora_train_tf_idf = quora_train_tf_idf[:,:-1]\n",
    "#quora_train_tf_idf = quora_train_tf_idf[:,:-1]"
   ]
  },
  {
   "cell_type": "code",
   "execution_count": null,
   "metadata": {
    "collapsed": true
   },
   "outputs": [],
   "source": [
    "'''\n",
    "The function train_test_split transform your databse in 4 parts, \n",
    "the first one is the new \"train\" database without the independent variable, \n",
    "the second one is the new test database without the independent variable,\n",
    "the third one is just the independent variable from the first part and\n",
    "the fourht one is just the independent variable from the second part.\n",
    "'''\n",
    "\n",
    "quora_train_features_tf, quora_test_features_tf, quora_train_y_tf, quora_test_y_tf = model_selection.train_test_split(\n",
    "    quora_train_tf, quora_train['is_duplicate'], test_size = 0.3, random_state = 0)"
   ]
  },
  {
   "cell_type": "code",
   "execution_count": null,
   "metadata": {
    "collapsed": true
   },
   "outputs": [],
   "source": [
    "quora_train_features_tf_idf, quora_test_features_tf_idf, quora_train_y_tf_idf, quora_test_y_tf_idf = model_selection.train_test_split(\n",
    "    quora_train_tf_idf, quora_train['is_duplicate'], test_size = 0.3, random_state = 0)"
   ]
  },
  {
   "cell_type": "code",
   "execution_count": null,
   "metadata": {
    "collapsed": true
   },
   "outputs": [],
   "source": [
    "del quora_train"
   ]
  },
  {
   "cell_type": "markdown",
   "metadata": {},
   "source": [
    "# Learning Models"
   ]
  },
  {
   "cell_type": "markdown",
   "metadata": {
    "collapsed": true
   },
   "source": [
    "## Random Forest - TF"
   ]
  },
  {
   "cell_type": "code",
   "execution_count": null,
   "metadata": {
    "collapsed": true
   },
   "outputs": [],
   "source": [
    "#http://scikit-learn.org/stable/modules/generated/sklearn.ensemble.RandomForestClassifier.html\n",
    "from sklearn.ensemble import RandomForestClassifier\n",
    "\n",
    "randomforest_tf = RandomForestClassifier(n_estimators=300, max_features='auto', bootstrap=False, \n",
    "                               oob_score=False, n_jobs=-1, random_state=0).fit(quora_train_features_tf, quora_train_y_tf)\n",
    "\n",
    "fileObject = open(\"../Dados/Kaggle/randomforest_tf\",'wb') \n",
    "pickle.dump(randomforest_tf,fileObject, protocol = 4)  \n",
    "fileObject.close()"
   ]
  },
  {
   "cell_type": "code",
   "execution_count": null,
   "metadata": {
    "collapsed": true
   },
   "outputs": [],
   "source": [
    "fileObject = open(\"../Dados/Kaggle/randomforest_tf\",'rb')  \n",
    "randomforest_tf = pickle.load(fileObject)\n",
    "\n",
    "randomforest_tf_score = randomforest_tf.score(quora_test_features_tf, quora_test_y_tf)\n",
    "print(randomforest_tf_score)\n",
    "\n",
    "predict_tf = randomforest_tf.predict_proba(quora_test_features_tf)\n",
    "print(log_loss(quora_test_y_tf,predict_tf))"
   ]
  },
  {
   "cell_type": "markdown",
   "metadata": {},
   "source": [
    "## Random Forest TF - IDF"
   ]
  },
  {
   "cell_type": "code",
   "execution_count": null,
   "metadata": {
    "collapsed": true
   },
   "outputs": [],
   "source": [
    "from sklearn.ensemble import RandomForestClassifier\n",
    "\n",
    "randomforest_tf_idf = RandomForestClassifier(n_estimators=300, max_features='auto', \n",
    "                                             bootstrap=False, oob_score=False, \n",
    "                                             n_jobs=-1, \n",
    "                                             random_state=0).fit(quora_train_features_tf_idf, quora_train_y_tf_idf)\n",
    "\n",
    "fileObject = open(\"../Dados/Kaggle/randomforest_tf_idf\",'wb') \n",
    "pickle.dump(randomforest_tf_idf,fileObject, protocol = 4)  \n",
    "fileObject.close()"
   ]
  },
  {
   "cell_type": "code",
   "execution_count": null,
   "metadata": {
    "collapsed": true
   },
   "outputs": [],
   "source": [
    "fileObject = open(\"../Dados/Kaggle/randomforest_tf_idf\",'rb')  \n",
    "randomforest_tf_idf = pickle.load(fileObject)\n",
    "\n",
    "randomforest_tf_score_idf = randomforest_tf_idf.score(quora_test_features_tf_idf, quora_test_y_tf_idf)\n",
    "print(randomforest_tf_score)\n",
    "\n",
    "predict_tf_idf = randomforest_tf_idf.predict_proba(quora_test_features_tf_idf)\n",
    "print(log_loss(quora_test_y_tf_idf,predict_tf_idf))"
   ]
  },
  {
   "cell_type": "markdown",
   "metadata": {},
   "source": [
    "## Logistic Regression TF"
   ]
  },
  {
   "cell_type": "code",
   "execution_count": null,
   "metadata": {
    "collapsed": true
   },
   "outputs": [],
   "source": [
    "from sklearn.linear_model import LogisticRegression as LR\n",
    "\n",
    "LR_tf = LR(penalty='l2',\n",
    "               dual=False,\n",
    "               tol=0.0001,\n",
    "               C=1.0,\n",
    "               fit_intercept=True,\n",
    "               intercept_scaling=1,\n",
    "               class_weight=None,\n",
    "               random_state=0,\n",
    "               solver='liblinear',\n",
    "               max_iter=100,\n",
    "               multi_class='ovr',\n",
    "               verbose=0).fit(quora_train_features_tf, quora_train_y_tf)\n",
    "\n",
    "fileObject = open(\"../Dados/Kaggle/LR_tf\",'wb') \n",
    "pickle.dump(LR_tf,fileObject, protocol = 4)  \n",
    "fileObject.close()"
   ]
  },
  {
   "cell_type": "code",
   "execution_count": null,
   "metadata": {
    "collapsed": true
   },
   "outputs": [],
   "source": [
    "fileObject = open(\"../Dados/Kaggle/LR_tf\",'rb')  \n",
    "LR_tf = pickle.load(fileObject)\n",
    "\n",
    "eval_LR_tf_tts = LR_tf.score(quora_test_features_tf, quora_test_y_tf)\n",
    "print(eval_LR_tf_tts)\n",
    "\n",
    "predict_tf = LR_tf.predict_proba(quora_test_features_tf)\n",
    "print(log_loss(quora_test_y_tf,predict_tf))"
   ]
  },
  {
   "cell_type": "markdown",
   "metadata": {},
   "source": [
    "## Logistic Regression TF - IDF"
   ]
  },
  {
   "cell_type": "code",
   "execution_count": null,
   "metadata": {
    "collapsed": true
   },
   "outputs": [],
   "source": [
    "from sklearn.linear_model import LogisticRegression as LR\n",
    "\n",
    "LR_tf_idf = LR(penalty='l2',\n",
    "                  dual=False,\n",
    "                  tol=0.0001,\n",
    "                  C=1.0,\n",
    "                  fit_intercept=True,\n",
    "                  intercept_scaling=1,\n",
    "                  class_weight=None,\n",
    "                  random_state=0,\n",
    "                  solver='liblinear',\n",
    "                  max_iter=100,\n",
    "                  multi_class='ovr',\n",
    "                  verbose=0).fit(quora_train_features_tf_idf, quora_train_y_tf_idf)\n",
    "\n",
    "fileObject = open(\"../Dados/Kaggle/LR_tf_idf\",'wb') \n",
    "pickle.dump(LR_tf_idf,fileObject, protocol = 4)  \n",
    "fileObject.close()"
   ]
  },
  {
   "cell_type": "code",
   "execution_count": null,
   "metadata": {
    "collapsed": true
   },
   "outputs": [],
   "source": [
    "fileObject = open(\"../Dados/Kaggle/LR_tf_idf\",'rb')  \n",
    "LR_tf_idf = pickle.load(fileObject)\n",
    "\n",
    "eval_LR_tf_idf_tts = LR_tf_idf.score(quora_test_features_tf_idf, quora_test_y_tf_idf)\n",
    "print(eval_LR_tf_idf_tts)\n",
    "\n",
    "predict_tf_idf = LR_tf_idf.predict_proba(quora_test_features_tf_idf)\n",
    "print(log_loss(quora_test_y_tf_idf,predict_tf_idf))"
   ]
  },
  {
   "cell_type": "markdown",
   "metadata": {
    "collapsed": true
   },
   "source": [
    "## Gradient Boost TF"
   ]
  },
  {
   "cell_type": "code",
   "execution_count": null,
   "metadata": {
    "collapsed": true
   },
   "outputs": [],
   "source": [
    "from sklearn.ensemble import GradientBoostingClassifier\n",
    "\n",
    "GBC_tf = GradientBoostingClassifier(loss='deviance',\n",
    "                                        learning_rate=0.1,\n",
    "                                        n_estimators=300,\n",
    "                                        subsample=1.0,\n",
    "                                        min_samples_split=2,\n",
    "                                        min_samples_leaf=1,\n",
    "                                        min_weight_fraction_leaf=0.0,\n",
    "                                        max_depth=3,\n",
    "                                        init=None,\n",
    "                                        random_state=0,\n",
    "                                        max_features=None,\n",
    "                                        verbose=0,\n",
    "                                        max_leaf_nodes=None,\n",
    "                                        warm_start=False,\n",
    "                                        presort='auto').fit(quora_train_features_tf, quora_train_y_tf)\n",
    "\n",
    "fileObject = open(\"../Dados/Kaggle/GBC_tf\",'wb') \n",
    "pickle.dump(GBC_tf,fileObject, protocol = 4)  \n",
    "fileObject.close()"
   ]
  },
  {
   "cell_type": "code",
   "execution_count": null,
   "metadata": {
    "collapsed": true
   },
   "outputs": [],
   "source": [
    "fileObject = open(\"../Dados/Kaggle/GBC_tf\",'rb')  \n",
    "GBC_tf = pickle.load(fileObject)\n",
    "\n",
    "eval_GBC_tf_tts = GBC_tf.score(quora_test_features_tf, quora_test_y_tf)\n",
    "print(eval_GBC_tf_tts)\n",
    "\n",
    "predict_tf = GBC_tf.predict_proba(quora_test_features_tf)\n",
    "print(log_loss(quora_test_y_tf,predict_tf))"
   ]
  },
  {
   "cell_type": "markdown",
   "metadata": {},
   "source": [
    "## Gradient Boost TF - IDF"
   ]
  },
  {
   "cell_type": "code",
   "execution_count": null,
   "metadata": {
    "collapsed": true
   },
   "outputs": [],
   "source": [
    "from sklearn.ensemble import GradientBoostingClassifier\n",
    "\n",
    "GBC_tf_idf = GradientBoostingClassifier(loss='deviance',\n",
    "                                           learning_rate=0.1,\n",
    "                                           n_estimators=100,\n",
    "                                           subsample=1.0,\n",
    "                                           min_samples_split=2,\n",
    "                                           min_samples_leaf=1,\n",
    "                                           min_weight_fraction_leaf=0.0,\n",
    "                                           max_depth=3,\n",
    "                                           init=None,\n",
    "                                           random_state=0,\n",
    "                                           max_features=None,\n",
    "                                           verbose=0,\n",
    "                                           max_leaf_nodes=None,\n",
    "                                           warm_start=False,\n",
    "                                           presort='auto').fit(quora_train_features_tf_idf, quora_train_y_tf_idf)\n",
    "\n",
    "fileObject = open(\"../Dados/Kaggle/GBC_tf_idf\",'wb') \n",
    "pickle.dump(GBC_tf_idf,fileObject, protocol = 4)  \n",
    "fileObject.close()"
   ]
  },
  {
   "cell_type": "code",
   "execution_count": null,
   "metadata": {
    "collapsed": true
   },
   "outputs": [],
   "source": [
    "fileObject = open(\"../Dados/Kaggle/GBC_tf_idf\",'rb')  \n",
    "GBC_tf_idf = pickle.load(fileObject)\n",
    "\n",
    "eval_GBC_tf_idf_tts = GBC_tf_idf.score(quora_test_features_tf_idf, quora_test_y_tf_idf)\n",
    "print(eval_GBC_tf_idf_tts)\n",
    "\n",
    "predict_tf_idf = GBC_tf_idf.predict_proba(quora_test_features_tf_idf)\n",
    "print(log_loss(quora_test_y_tf_idf,predict_tf_idf))"
   ]
  },
  {
   "cell_type": "markdown",
   "metadata": {},
   "source": [
    "## Voting TF"
   ]
  },
  {
   "cell_type": "code",
   "execution_count": null,
   "metadata": {
    "collapsed": true
   },
   "outputs": [],
   "source": [
    "from sklearn.ensemble import VotingClassifier\n",
    "\n",
    "vot_tf = VotingClassifier(estimators=[('rf', randomforest_tf),\n",
    "                                          ('lr', LR_tf),\n",
    "                                          ('gbc', GBC_tf)], voting='soft').fit(quora_train_features_tf,\n",
    "                                                                                   quora_train_y_tf)\n",
    "\n",
    "fileObject = open(\"../Dados/Kaggle/vot_tf\",'wb') \n",
    "pickle.dump(vot_tf,fileObject, protocol = 4)  \n",
    "fileObject.close()"
   ]
  },
  {
   "cell_type": "code",
   "execution_count": null,
   "metadata": {
    "collapsed": true
   },
   "outputs": [],
   "source": [
    "fileObject = open(\"../Dados/Kaggle/vot_tf\",'rb')  \n",
    "vot_tf = pickle.load(fileObject)\n",
    "\n",
    "eval_vot_tf_tts = vot_tf.score(quora_test_features_tf, quora_test_y_tf)\n",
    "print(eval_vot_tf_tts)\n",
    "\n",
    "predict_tf = vot_tf.predict_proba(quora_test_features_tf)\n",
    "print(log_loss(quora_test_y_tf, predict_tf))"
   ]
  },
  {
   "cell_type": "markdown",
   "metadata": {},
   "source": [
    "## Voting TF - IDF"
   ]
  },
  {
   "cell_type": "code",
   "execution_count": null,
   "metadata": {
    "collapsed": true
   },
   "outputs": [],
   "source": [
    "from sklearn.ensemble import VotingClassifier\n",
    "\n",
    "vot_tf_idf = VotingClassifier(estimators=[('rf', randomforest_tf_idf),\n",
    "                                             ('lr', LR_tf_idf),\n",
    "                                             ('gbc', GBC_tf_idf)], voting='soft').fit(quora_train_features_tf_idf, \n",
    "                                                                                         quora_train_y_tf_idf)\n",
    "\n",
    "fileObject = open(\"../Dados/Kaggle/vot_tf_idf\",'wb') \n",
    "pickle.dump(vot_tf_idf,fileObject, protocol = 4)  \n",
    "fileObject.close()"
   ]
  },
  {
   "cell_type": "code",
   "execution_count": null,
   "metadata": {
    "collapsed": true
   },
   "outputs": [],
   "source": [
    "fileObject = open(\"../Dados/Kaggle/vot_tf_idf\",'rb')  \n",
    "vot_tf_idf = pickle.load(fileObject)\n",
    "\n",
    "eval_vot_tf_idf_tts = vot_tf_idf.score(quora_test_features_tf_idf, quora_test_y_tf_idf)\n",
    "print(eval_vot_tf_idf_tts)\n",
    "\n",
    "predict_tf_idf = vot_tf_idf.predict_proba(quora_test_features_tf_idf)\n",
    "print(log_loss(quora_test_y_tf_idf,predict_tf_idf))"
   ]
  },
  {
   "cell_type": "markdown",
   "metadata": {},
   "source": [
    "## Keras - Tensorflow"
   ]
  },
  {
   "cell_type": "code",
   "execution_count": null,
   "metadata": {
    "collapsed": true
   },
   "outputs": [],
   "source": [
    "import tensorflow as tf\n",
    "sess = tf.Session()\n",
    "from keras import backend as K\n",
    "K.set_session(sess)\n",
    "from keras.layers import Dense\n",
    "from keras.objectives import categorical_crossentropy"
   ]
  },
  {
   "cell_type": "markdown",
   "metadata": {},
   "source": [
    "# Word2Vec"
   ]
  },
  {
   "cell_type": "code",
   "execution_count": 30,
   "metadata": {
    "collapsed": true
   },
   "outputs": [],
   "source": [
    "model_wikimedia = Word2Vec.load(\"/../Dados/Word2vec/model_wikimedia_w2v\")"
   ]
  },
  {
   "cell_type": "code",
   "execution_count": 52,
   "metadata": {
    "collapsed": true
   },
   "outputs": [],
   "source": [
    "num_features = 400    # Word vector dimensionality\n",
    "\n",
    "def makeFeatureVec(words, model,index2word_set, num_features):\n",
    "    # Function to average all of the word vectors in a given paragraph\n",
    "    # Pre-initialize an empty numpy array (for speed)\n",
    "    featureVec = np.zeros((num_features,),dtype=\"float32\")\n",
    "    nwords = 0.\n",
    "    # Index2word is a list that contains the names of the words in the model's vocabulary. \n",
    "    #Convert it to a set, for speed\n",
    "    # Loop over each word in the review and, if it is in the model's\n",
    "    # vocabulary, add its feature vector to the total\n",
    "    for word in words.split(\" \"):\n",
    "        if word in index2word_set:\n",
    "            nwords = nwords + 1.\n",
    "            featureVec = np.add(featureVec,model[word])\n",
    "    # Divide the result by the number of words to get the average\n",
    "    featureVec = np.divide(featureVec,nwords)\n",
    "    return featureVec\n",
    "\n",
    "\n",
    "\n",
    "#makeFeatureVec(\"How can Internet speed be increased by hacking\",model_googlenews,num_features)"
   ]
  },
  {
   "cell_type": "code",
   "execution_count": 53,
   "metadata": {},
   "outputs": [
    {
     "name": "stderr",
     "output_type": "stream",
     "text": [
      "/usr/local/lib/python3.5/dist-packages/ipykernel_launcher.py:25: SettingWithCopyWarning: \n",
      "A value is trying to be set on a copy of a slice from a DataFrame.\n",
      "Try using .loc[row_indexer,col_indexer] = value instead\n",
      "\n",
      "See the caveats in the documentation: http://pandas.pydata.org/pandas-docs/stable/indexing.html#indexing-view-versus-copy\n",
      "/usr/local/lib/python3.5/dist-packages/ipykernel_launcher.py:26: SettingWithCopyWarning: \n",
      "A value is trying to be set on a copy of a slice from a DataFrame.\n",
      "Try using .loc[row_indexer,col_indexer] = value instead\n",
      "\n",
      "See the caveats in the documentation: http://pandas.pydata.org/pandas-docs/stable/indexing.html#indexing-view-versus-copy\n",
      "/usr/local/lib/python3.5/dist-packages/ipykernel_launcher.py:33: SettingWithCopyWarning: \n",
      "A value is trying to be set on a copy of a slice from a DataFrame.\n",
      "Try using .loc[row_indexer,col_indexer] = value instead\n",
      "\n",
      "See the caveats in the documentation: http://pandas.pydata.org/pandas-docs/stable/indexing.html#indexing-view-versus-copy\n",
      "/usr/local/lib/python3.5/dist-packages/ipykernel_launcher.py:34: SettingWithCopyWarning: \n",
      "A value is trying to be set on a copy of a slice from a DataFrame.\n",
      "Try using .loc[row_indexer,col_indexer] = value instead\n",
      "\n",
      "See the caveats in the documentation: http://pandas.pydata.org/pandas-docs/stable/indexing.html#indexing-view-versus-copy\n"
     ]
    },
    {
     "name": "stdout",
     "output_type": "stream",
     "text": [
      "(404288, 21)\n"
     ]
    }
   ],
   "source": [
    "quora_train = pd.read_csv(\"/../Dados/Kaggle/train.csv\")\n",
    "\n",
    "#quora_train = quora_train.head(500)\n",
    "quora_train = cleaning_tool(quora_train, lemm = False, rm_duplicate = False, punctuation = True)\n",
    "\n",
    "quora_train = make_basic_features(quora_train)\n",
    "quora_train = make_fuzz_features(quora_train)\n",
    "print(quora_train.shape)\n",
    "\n",
    "for i in range(1,16):\n",
    "    quora_train.iloc[:,-i] = quora_train.iloc[:,-i]/max(quora_train.iloc[:,-i])\n",
    "\n",
    "fuzzy_features = quora_train.iloc[:,-15:-1]"
   ]
  },
  {
   "cell_type": "code",
   "execution_count": 54,
   "metadata": {},
   "outputs": [
    {
     "name": "stdout",
     "output_type": "stream",
     "text": [
      "0\n",
      "0.0012972354888916016\n"
     ]
    },
    {
     "name": "stderr",
     "output_type": "stream",
     "text": [
      "/usr/local/lib/python3.5/dist-packages/ipykernel_launcher.py:17: RuntimeWarning: invalid value encountered in true_divide\n"
     ]
    },
    {
     "name": "stdout",
     "output_type": "stream",
     "text": [
      "50000\n",
      "14.090894222259521\n",
      "100000\n",
      "28.294624090194702\n",
      "150000\n",
      "42.56831169128418\n",
      "200000\n",
      "56.57384395599365\n",
      "250000\n",
      "70.69206666946411\n",
      "300000\n",
      "84.6734230518341\n",
      "350000\n",
      "98.82018685340881\n",
      "400000\n",
      "113.15909790992737\n"
     ]
    }
   ],
   "source": [
    "import time\n",
    "\n",
    "index2word_set = set(model_wikimedia.wv.index2word)\n",
    "\n",
    "t0 = time.time()\n",
    "question1 = []\n",
    "question2 = []\n",
    "for index in range(0,len(quora_train)):\n",
    "    question1.append(makeFeatureVec(quora_train[\"question1\"].iloc[index],model_wikimedia,index2word_set,num_features))\n",
    "    question2.append(makeFeatureVec(quora_train[\"question2\"].iloc[index],model_wikimedia,index2word_set,num_features))\n",
    "    if (index % 50000 == 0):\n",
    "        print (index)\n",
    "        print(time.time()-t0)\n",
    "question1 = np.array(question1)\n",
    "question2 = np.array(question2)\n",
    "\n",
    "#NAs to 0\n",
    "where_are_NaNs_1 = np.isnan(question1)\n",
    "where_are_NaNs_2 = np.isnan(question2)\n",
    "question1[where_are_NaNs_1] = 0\n",
    "question2[where_are_NaNs_2] = 0\n",
    "\n",
    "features_wikimedia = (add_dotprod_eucli(question1,question2))\n",
    "\n",
    "#Normalize two last colunms (dotprod and euclidean)\n",
    "features_wikimedia[:,-1] = features_wikimedia[:,-1]/max(features_wikimedia[:,-1])\n",
    "features_wikimedia[:,-2] = features_wikimedia[:,-2]/max(features_wikimedia[:,-2])\n",
    "\n",
    "features_wikimedia = np.column_stack((features_wikimedia,fuzzy_features))"
   ]
  },
  {
   "cell_type": "markdown",
   "metadata": {},
   "source": [
    "# Store Pickle"
   ]
  },
  {
   "cell_type": "code",
   "execution_count": 55,
   "metadata": {
    "collapsed": true
   },
   "outputs": [],
   "source": [
    "quora_train_wikimedia_part1 = features_wikimedia[0:200000]\n",
    "quora_train_wikimedia_part2 = features_wikimedia[200000:]\n",
    "\n",
    "del features_wikimedia\n",
    "\n",
    "fileObject = open(\"../Dados/Kaggle/wikimedia_Ponc_NA_lower_wikimedia_part1\",'wb') \n",
    "pickle.dump(quora_train_wikimedia_part1,fileObject, protocol = 4)  \n",
    "fileObject.close()\n",
    "\n",
    "del quora_train_wikimedia_part1\n",
    "\n",
    "fileObject = open(\"../Dados/Kaggle/wikimedia_Ponc_NA_lower_wikimedia_part2\",'wb') \n",
    "pickle.dump(quora_train_wikimedia_part2,fileObject, protocol = 4)  \n",
    "fileObject.close()\n",
    "\n",
    "del quora_train_wikimedia_part2"
   ]
  },
  {
   "cell_type": "markdown",
   "metadata": {},
   "source": [
    "# Load Pickle"
   ]
  },
  {
   "cell_type": "code",
   "execution_count": 56,
   "metadata": {
    "collapsed": true
   },
   "outputs": [],
   "source": [
    "fileObject = open(\"../Dados/Kaggle/wikimedia_Ponc_NA_lower_wikimedia_part1\",'rb')  \n",
    "quora_train_wikimedia_part1 = pickle.load(fileObject)\n",
    "\n",
    "fileObject = open(\"../Dados/Kaggle/wikimedia_Ponc_NA_lower_wikimedia_part2\",'rb')  \n",
    "quora_train_wikimedia_part2 = pickle.load(fileObject)\n",
    "\n",
    "features_wikimedia = np.vstack((quora_train_wikimedia_part1, quora_train_wikimedia_part2))\n",
    "\n",
    "del quora_train_wikimedia_part1, quora_train_wikimedia_part2"
   ]
  },
  {
   "cell_type": "markdown",
   "metadata": {},
   "source": [
    "# Cross Validation"
   ]
  },
  {
   "cell_type": "code",
   "execution_count": 57,
   "metadata": {},
   "outputs": [
    {
     "name": "stdout",
     "output_type": "stream",
     "text": [
      "(404288, 416)\n",
      "(283001, 416)\n",
      "(121287, 416)\n",
      "(283001,)\n",
      "(121287,)\n"
     ]
    }
   ],
   "source": [
    "print(features_wikimedia.shape)\n",
    "\n",
    "quora_train_features_wikimedia, quora_test_features_wikimedia, quora_train_y_wikimedia, quora_test_y_wikimedia = model_selection.train_test_split(features_wikimedia, quora_train['is_duplicate'], \n",
    "                                                       test_size = 0.3, random_state = 0)\n",
    "\n",
    "print(quora_train_features_wikimedia.shape)\n",
    "print(quora_test_features_wikimedia.shape)\n",
    "print(quora_train_y_wikimedia.shape)\n",
    "print(quora_test_y_wikimedia.shape)"
   ]
  },
  {
   "cell_type": "markdown",
   "metadata": {},
   "source": [
    "## Linear Model W2V"
   ]
  },
  {
   "cell_type": "code",
   "execution_count": 58,
   "metadata": {
    "collapsed": true
   },
   "outputs": [],
   "source": [
    "from sklearn.linear_model import LogisticRegression as LR\n",
    "\n",
    "LR_wikimedia = LR(penalty='l2',\n",
    "               dual=False,\n",
    "               tol=0.0001,\n",
    "               C=1.0,\n",
    "               fit_intercept=True,\n",
    "               intercept_scaling=1,\n",
    "               class_weight=None,\n",
    "               random_state=0,\n",
    "               solver='liblinear',\n",
    "               max_iter=100,\n",
    "               multi_class='ovr',\n",
    "               verbose=0).fit(quora_train_features_wikimedia, quora_train_y_wikimedia)\n",
    "\n",
    "fileObject = open(\"../Dados/Kaggle/LR_wikimedia\",'wb') \n",
    "pickle.dump(LR_wikimedia,fileObject, protocol = 4)  \n",
    "fileObject.close()"
   ]
  },
  {
   "cell_type": "code",
   "execution_count": 59,
   "metadata": {},
   "outputs": [
    {
     "name": "stdout",
     "output_type": "stream",
     "text": [
      "0.740714173819\n",
      "0.492142999097\n"
     ]
    }
   ],
   "source": [
    "fileObject = open(\"../Dados/Kaggle/LR_wikimedia\",'rb')  \n",
    "LR_wikimedia = pickle.load(fileObject)\n",
    "\n",
    "eval_LR_wikimedia_tts = LR_wikimedia.score(quora_test_features_wikimedia, quora_test_y_wikimedia)\n",
    "print(eval_LR_wikimedia_tts)\n",
    "\n",
    "predict_wikimedia = LR_wikimedia.predict_proba(quora_test_features_wikimedia)\n",
    "print(log_loss(quora_test_y_wikimedia,predict_wikimedia))"
   ]
  },
  {
   "cell_type": "markdown",
   "metadata": {},
   "source": [
    "## Random Forest Wikimedia"
   ]
  },
  {
   "cell_type": "code",
   "execution_count": 60,
   "metadata": {
    "collapsed": true
   },
   "outputs": [],
   "source": [
    "from sklearn.ensemble import RandomForestClassifier\n",
    "\n",
    "randomforest_wikimedia = RandomForestClassifier(n_estimators=300, max_features='auto', bootstrap=False, \n",
    "                               oob_score=False, n_jobs=-1, random_state=0).fit(quora_train_features_wikimedia, \n",
    "                                                                               quora_train_y_wikimedia)\n",
    "\n",
    "fileObject = open(\"../Dados/Kaggle/randomforest_wikimedia\",'wb') \n",
    "pickle.dump(randomforest_wikimedia,fileObject, protocol = 4)  \n",
    "fileObject.close()"
   ]
  },
  {
   "cell_type": "code",
   "execution_count": null,
   "metadata": {},
   "outputs": [
    {
     "name": "stdout",
     "output_type": "stream",
     "text": [
      "0.818043153842\n",
      "0.408686326446\n"
     ]
    }
   ],
   "source": [
    "fileObject = open(\"../Dados/Kaggle/randomforest_wikimedia\",'rb')  \n",
    "randomforest_wikimedia = pickle.load(fileObject)\n",
    "\n",
    "randomforest_wikimedia_score = randomforest_wikimedia.score(quora_test_features_wikimedia, quora_test_y_wikimedia)\n",
    "print(randomforest_wikimedia_score)\n",
    "\n",
    "predict_wikimedia = randomforest_wikimedia.predict_proba(quora_test_features_wikimedia)\n",
    "\n",
    "print(log_loss(quora_test_y_wikimedia,predict_wikimedia))"
   ]
  },
  {
   "cell_type": "markdown",
   "metadata": {},
   "source": [
    "## Gradient Boosting Wikimedia"
   ]
  },
  {
   "cell_type": "code",
   "execution_count": 44,
   "metadata": {
    "collapsed": true
   },
   "outputs": [],
   "source": [
    "from sklearn.ensemble import GradientBoostingClassifier\n",
    "\n",
    "GBC_wikimedia = GradientBoostingClassifier(loss='deviance',\n",
    "                                        learning_rate=0.1,\n",
    "                                        n_estimators=300,\n",
    "                                        subsample=1.0,\n",
    "                                        min_samples_split=2,\n",
    "                                        min_samples_leaf=1,\n",
    "                                        min_weight_fraction_leaf=0.0,\n",
    "                                        max_depth=3,\n",
    "                                        init=None,\n",
    "                                        random_state=0,\n",
    "                                        max_features=None,\n",
    "                                        verbose=0,\n",
    "                                        max_leaf_nodes=None,\n",
    "                                        warm_start=False,\n",
    "                                        presort='auto').fit(quora_train_features_wikimedia, quora_train_y_wikimedia)\n",
    "\n",
    "fileObject = open(\"../Dados/Kaggle/GBC_wikimedia\",'wb') \n",
    "pickle.dump(GBC_wikimedia,fileObject, protocol = 4)  \n",
    "fileObject.close()"
   ]
  },
  {
   "cell_type": "code",
   "execution_count": 45,
   "metadata": {},
   "outputs": [
    {
     "name": "stdout",
     "output_type": "stream",
     "text": [
      "0.68\n",
      "0.861538711172\n"
     ]
    }
   ],
   "source": [
    "fileObject = open(\"../Dados/Kaggle/GBC_wikimedia\",'rb')  \n",
    "GBC_wikimedia = pickle.load(fileObject)\n",
    "\n",
    "eval_GBC_wikimedia = GBC_wikimedia.score(quora_test_features_wikimedia, quora_test_y_wikimedia)\n",
    "print(eval_GBC_wikimedia)\n",
    "\n",
    "predict_wikimedia = GBC_wikimedia.predict_proba(quora_test_features_wikimedia)\n",
    "print(log_loss(quora_test_y_wikimedia,predict_wikimedia))"
   ]
  },
  {
   "cell_type": "markdown",
   "metadata": {},
   "source": [
    "## Voting Wikimedia"
   ]
  },
  {
   "cell_type": "code",
   "execution_count": null,
   "metadata": {
    "collapsed": true
   },
   "outputs": [],
   "source": [
    "from sklearn.ensemble import VotingClassifier\n",
    "vot_wikimedia = VotingClassifier(estimators=[('rf', randomforest_wikimedia),\n",
    "                                             ('lr', LR_wikimedia)],voting='soft').fit(quora_train_features_wikimedia,quora_train_y_wikimedia)\n",
    "                                             #('gbc', GBC_wikimedia)], \n",
    "                        \n",
    "\n",
    "fileObject = open(\"../Dados/Kaggle/vot_wikimedia\",'wb') \n",
    "pickle.dump(vot_wikimedia,fileObject, protocol = 4)  \n",
    "fileObject.close()"
   ]
  },
  {
   "cell_type": "code",
   "execution_count": null,
   "metadata": {},
   "outputs": [],
   "source": [
    "fileObject = open(\"../Dados/Kaggle/vot_wikimedia\",'rb')  \n",
    "vot_wikimedia = pickle.load(fileObject)\n",
    "\n",
    "eval_vot_wikimedia_tts = vot_wikimedia.score(quora_test_features_wikimedia, quora_test_y_wikimedia)\n",
    "print(eval_vot_wikimedia_tts)\n",
    "\n",
    "predict_wikimedia = vot_wikimedia.predict_proba(quora_test_features_wikimedia)\n",
    "print(log_loss(quora_test_y_wikimedia, predict_wikimedia))"
   ]
  }
 ],
 "metadata": {
  "anaconda-cloud": {},
  "kernelspec": {
   "display_name": "Python 3",
   "language": "python",
   "name": "python3"
  },
  "language_info": {
   "codemirror_mode": {
    "name": "ipython",
    "version": 3
   },
   "file_extension": ".py",
   "mimetype": "text/x-python",
   "name": "python",
   "nbconvert_exporter": "python",
   "pygments_lexer": "ipython3",
   "version": "3.5.2+"
  }
 },
 "nbformat": 4,
 "nbformat_minor": 1
}
